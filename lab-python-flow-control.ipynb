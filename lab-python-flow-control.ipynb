{
  "cells": [
    {
      "cell_type": "markdown",
      "id": "d3bfc191-8885-42ee-b0a0-bbab867c6f9f",
      "metadata": {
        "tags": [],
        "id": "d3bfc191-8885-42ee-b0a0-bbab867c6f9f"
      },
      "source": [
        "# Lab | Flow Control"
      ]
    },
    {
      "cell_type": "markdown",
      "id": "3851fcd1-cf98-4653-9c89-e003b7ec9400",
      "metadata": {
        "id": "3851fcd1-cf98-4653-9c89-e003b7ec9400"
      },
      "source": [
        "## Exercise: Managing Customer Orders Optimized\n",
        "\n",
        "In the last lab, you were starting an online store that sells various products. To ensure smooth operations, you developed a program that manages customer orders and inventory.\n",
        "\n",
        "You did so without using flow control. Let's go a step further and improve this code.\n",
        "\n",
        "Follow the steps below to complete the exercise:\n",
        "\n",
        "1. Look at your code from the lab data structures, and improve repeated code with loops.\n",
        "\n",
        "2. Instead of asking the user to input the name of three products that a customer wants to order, do the following:\n",
        "    \n",
        "    a. Prompt the user to enter the name of a product that a customer wants to order.\n",
        "    \n",
        "    b. Add the product name to the \"customer_orders\" set.\n",
        "    \n",
        "    c. Ask the user if they want to add another product (yes/no).\n",
        "    \n",
        "    d. Continue the loop until the user does not want to add another product.\n",
        "\n",
        "3. Instead of updating the inventory by subtracting 1 from the quantity of each product, only do it for  the products that were ordered (those in \"customer_orders\")."
      ]
    },
    {
      "cell_type": "markdown",
      "source": [
        "# Same code as lab 1\n",
        "\n"
      ],
      "metadata": {
        "id": "RASAQtRRMgvo"
      },
      "id": "RASAQtRRMgvo"
    },
    {
      "cell_type": "code",
      "source": [
        "1# Create a product list and inventory dictionary\n",
        "products = [\"t-shirt\", \"mug\", \"hat\", \"book\", \"keychain\"]\n",
        "inventory = {}\n",
        "\n",
        "# Populate the QTY inventory of each product\n",
        "for i in products:\n",
        "  quantity = int(input(f\"How many units in inventory of {i}: \"))\n",
        "  inventory[i] = quantity\n",
        "\n",
        "# Create a set to have the customer order\n",
        "customer_orders = set()"
      ],
      "metadata": {
        "colab": {
          "base_uri": "https://localhost:8080/"
        },
        "id": "VFK3lMUUFbEs",
        "outputId": "365e95c5-5acc-4985-b8a9-4882321e14a1"
      },
      "id": "VFK3lMUUFbEs",
      "execution_count": 1,
      "outputs": [
        {
          "name": "stdout",
          "output_type": "stream",
          "text": [
            "How many units in inventory of t-shirt: 10\n",
            "How many units in inventory of mug: 10\n",
            "How many units in inventory of hat: 10\n",
            "How many units in inventory of book: 10\n",
            "How many units in inventory of keychain: 10\n"
          ]
        }
      ]
    },
    {
      "cell_type": "markdown",
      "source": [
        "# New code for lab 2"
      ],
      "metadata": {
        "id": "l60H4Pl3MacZ"
      },
      "id": "l60H4Pl3MacZ"
    },
    {
      "cell_type": "code",
      "source": [
        "# Ask if wants to order anything\n",
        "order_more = input(\"Do you want to order anything? yes/no \")\n",
        "# Variable to know how many items they are ordering\n",
        "n_product_ordered = 1\n",
        "\n",
        "# Make sure customer rights yes or no\n",
        "while (order_more != \"yes\") and (order_more != \"no\"):\n",
        "  order_more = input(\"Invalid entry. Do you want to order anything? yes/no \")\n",
        "\n",
        "# While answer is yes, keep asking which item to order\n",
        "while order_more == \"yes\":\n",
        "  order = {input(f\"For product {n_product_ordered}, what do you want to order? \")}\n",
        "  n_product_ordered += 1\n",
        "  customer_orders |= order\n",
        "  order_more = input(\"Do you want to order anything else? yes/no \")"
      ],
      "metadata": {
        "colab": {
          "base_uri": "https://localhost:8080/"
        },
        "id": "AbGJ6poLMawV",
        "outputId": "d4d50342-b868-414f-8bd3-18ec226b3962"
      },
      "id": "AbGJ6poLMawV",
      "execution_count": 2,
      "outputs": [
        {
          "name": "stdout",
          "output_type": "stream",
          "text": [
            "Do you want to order anything? yes/no yes\n",
            "For product 1, what do you want to order? hat\n",
            "Do you want to order anything else? yes/no yes\n",
            "For product 2, what do you want to order? book\n",
            "Do you want to order anything else? yes/no no\n"
          ]
        }
      ]
    },
    {
      "cell_type": "markdown",
      "source": [
        "# Same code as lab 1\n"
      ],
      "metadata": {
        "id": "7JcpIBXwMbCt"
      },
      "id": "7JcpIBXwMbCt"
    },
    {
      "cell_type": "code",
      "source": [
        "# Print the customer order\n",
        "for i in customer_orders:\n",
        "  print(i)\n",
        "\n",
        "# Print info about the order and % ordered of the total inventory\n",
        "print(f\"Customer ordered {len(customer_orders)} units\")\n",
        "print(f\"Percentage of products ordered is {len(customer_orders)/sum(inventory.values())}\")\n",
        "\n",
        "percent_ord_inv = \"{:.2%}\".format(len(customer_orders)/sum(inventory.values()))\n",
        "print(f\"Total Products Ordered: {len(customer_orders)}\")\n",
        "print(f\"Percentage of Products Ordered: {percent_ord_inv}\")\n",
        "\n",
        "# Reduce QTY of the inventory\n",
        "customer_orders_list = list(customer_orders)\n",
        "for i in customer_orders_list:\n",
        "  try:\n",
        "    inventory[i] = inventory[i] - 1\n",
        "  except:\n",
        "    pass\n",
        "\n",
        "# Print remaining inventory\n",
        "for i in inventory.keys():\n",
        "  print(f\"Inventory of {i} is: {inventory[i]}\")"
      ],
      "metadata": {
        "colab": {
          "base_uri": "https://localhost:8080/"
        },
        "id": "aBVV23wRMbXp",
        "outputId": "b1ef0957-ee0a-48c7-bf73-9a8f57792c30"
      },
      "id": "aBVV23wRMbXp",
      "execution_count": 3,
      "outputs": [
        {
          "output_type": "stream",
          "name": "stdout",
          "text": [
            "hat\n",
            "book\n",
            "Customer ordered 2 units\n",
            "Percentage of products ordered is 0.04\n",
            "Total Products Ordered: 2\n",
            "Percentage of Products Ordered: 4.00%\n",
            "Inventory of t-shirt is: 10\n",
            "Inventory of mug is: 10\n",
            "Inventory of hat is: 9\n",
            "Inventory of book is: 9\n",
            "Inventory of keychain is: 10\n"
          ]
        }
      ]
    }
  ],
  "metadata": {
    "kernelspec": {
      "display_name": "Python 3 (ipykernel)",
      "language": "python",
      "name": "python3"
    },
    "language_info": {
      "codemirror_mode": {
        "name": "ipython",
        "version": 3
      },
      "file_extension": ".py",
      "mimetype": "text/x-python",
      "name": "python",
      "nbconvert_exporter": "python",
      "pygments_lexer": "ipython3",
      "version": "3.9.13"
    },
    "colab": {
      "provenance": []
    }
  },
  "nbformat": 4,
  "nbformat_minor": 5
}